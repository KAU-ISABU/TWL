{
 "cells": [
  {
   "cell_type": "markdown",
   "metadata": {},
   "source": [
    "# 확률론 기초"
   ]
  },
  {
   "cell_type": "markdown",
   "metadata": {},
   "source": [
    "- Machine Learning은 데이터를 기반으로 발전한 분야이지만, 그 뿌리가 되는 학문/분야는 **통계학** 이라고 볼 수 있습니다.\n",
    "- 데이터를 다루는 통계학 또한 **확률론**의 개념들을 이용해 문제를 해결하고, 모형을 설명합니다.\n",
    "  - 어떻게 보면 확률론의 내용을 통해 통계 기법이 이뤄진다 로 봐도 될 것 같습니다.\n",
    "- 이번 정리본에선 ML에 들어가기에 앞서 알아두면 좋을 기초적인 확률론의 내용을 적어보고자 합니다. "
   ]
  },
  {
   "cell_type": "markdown",
   "metadata": {},
   "source": [
    "## 1. Probability Theory - Introduction"
   ]
  },
  {
   "cell_type": "markdown",
   "metadata": {},
   "source": [
    "- **자연계의 수 많은 불확실성을 다루기 위한 수학의 한 분야**로 시스템의 신뢰성, 측정값의 정확도 분석과 같은 문제들을 해결하고자 하는데 주로 활용되는 학문입니다.\n",
    "    - 확률(Probability, 사건의 빈도)을 분석/연구하는 분야로 볼 수 있습니다.\n",
    "- 한 실험에서 모든 가능한 결과를 모은 공간을 **표본 공간(Sample Space)** 이라 하며, 이 실험에서 특정 실험 결과가 나올 가능성을 **확률 (Probability)** 이라고 합니다.\n",
    "- 실험에서 특정 결과들의 집합을 **사건(Event)** 이라고 합니다.\n",
    "  - 이 특정 결과들의 집합이 아닌 부분을 **여사건(Complementary Event)** 이라고 합니다.   "
   ]
  },
  {
   "cell_type": "markdown",
   "metadata": {},
   "source": [
    "> 대표적인 **동전 2개를 던지는 실험**을 생각해봅시다.   \n",
    "> 앞면을 $H$, 뒷면을 $T$ 라고 하면 이 실험에 대한 표본공간 $S$는 다음과 같이 표현할 수 있습니다.   \n",
    "> <center>\n",
    "> \n",
    "> $S=\\{(H, T), (H, H), (T, H), (T, T)\\}$   \n",
    "> </center>\n",
    "> \n",
    "> 이때 $(H, T)$와 $(T, H)$는 서로 다른 사건입니다.  \n",
    "> \n",
    "> 동전 2개가 같은 면을 나타내는 사건을 $A$라고 한다면, $A=\\{(H,H), (T,T)\\}$가 될 것이고   \n",
    "> 동전 2개가 다른 면을 나타내는 사건, 즉 $A$의 여사건은 $A^c=\\{(H,T), (T,H)\\}$가 됩니다."
   ]
  },
  {
   "cell_type": "markdown",
   "metadata": {},
   "source": [
    "- **확률**을 약간 수학적으로 정의하면 다음처럼 정의할 수 있습니다."
   ]
  },
  {
   "cell_type": "markdown",
   "metadata": {},
   "source": [
    "\n",
    "<center>\n",
    "\n",
    "> 표본공간 $S=\\{O_1, O_2, ..., O_n\\}$ 으로 구성된 실험에 대한 확률값 집합은\n",
    "<br>\n",
    "> 각각의 요소에 대한 확률값 $P_1, P_2, ..., P_n$을 갖고, $0\\le P_1 \\le1, 0\\le P_2 \\le1, ... 0\\le P_n \\le1$ 이며, $P_1 + P_2 + ... + P_n = 1$ 이다.\n",
    "<br>\n",
    "> 특정 사건 $O_i$가 발생할 확률을 $p_i$라 할때, 기호로 $P(O_i) = p_i$와 같이 표기한다.\n",
    "\n",
    "</center>\n"
   ]
  },
  {
   "cell_type": "markdown",
   "metadata": {},
   "source": [
    "- **사건**을 약간 수학적으로 정의하면 다음처럼 정의할 수 있습니다."
   ]
  },
  {
   "cell_type": "markdown",
   "metadata": {},
   "source": [
    "<center>\n",
    "\n",
    "> 사건 $A$는 표본공간 $S$의 부분집합(subset)으로, 특정 관심 대상인 결과들의 집합이다.   \n",
    "> $P(A)$는 사건 $A$에 속하는 결과들의 확률의 총 합으로 구할 수 있다.  \n",
    "> 또한, 사건 $A$에 속하지 않는 표본공간 내의 다른 모든 결과의 집합을 여사건 이라 하며,   \n",
    "> $P(A) + P(A^c) = P(S) = 1$ 의 관계가 성립한다.\n",
    "\n",
    "</center>"
   ]
  },
  {
   "cell_type": "markdown",
   "metadata": {},
   "source": [
    "## 2. Probability in two events"
   ]
  },
  {
   "cell_type": "markdown",
   "metadata": {},
   "source": [
    "- 보통 일상생활에서는 1가지 사건에 대해서만 생각하는 경우는 드물다고 볼 수 있습니다.   \n",
    "- 일상생활에서 마주하는 대부분의 사건은 두개 또는 그 이상의 사건을 같이 고려하게 되는 경우가 많습니다.   \n",
    "> ex) 공정한 주사위 2개를 던졌을 때 양측 눈이 짝수가 나올 확률?   \n",
    "- 이렇게, 2가지 이상의 사건의 확률을 생각하는 경우를 **사건의 조합** 이라고 합니다.\n",
    "    - 사건의 교집합은 두 사건이 동시에 포함되는 결과로 구성되는 경우이며, 사건 $A$, $B$가 동시에 발생할 확률은 $P(A \\cap B)$ 로 표현합니다.\n",
    "    - 사건의 합집합은 두 사건중 적어도 한 경우에 속하는 결과로 구성되는 경우이며, 사건 $A$, $B$ 중 적어도 하나가 발생할 확률은 $P(A \\cup B)$ 로 표현합니다.\n",
    "    - **상호배반사건**은 두 사건의 공통 결과가 없는 경우($P(A \\cap B) = \\varnothing$)이며, 이 확률은 당연히 $P(A \\cap B) = 0$ 이 됩니다.   \n",
    "    \n",
    "> 집합론에서 배운 내용이 확률론에 적용되었다고 보셔도 될 것 같습니다."
   ]
  },
  {
   "cell_type": "markdown",
   "metadata": {},
   "source": [
    "- 2개의 사건을 같이 생각하는 경우, 자연스레 한 사건이 다른 사건에 영향을 미치는 경우가 있음을 생각할 수 있습니다.\n",
    "> ex) 공정한 주사위 1개를 던졌을 때, 그 수가 짝수임을 알고있다면, 그 눈이 6일 확률?   \n",
    "- 이렇게 2개 이상의 사건에 대해, **어떤 사건이 발생했다는 걸 알고 있는 전제 하에 다른 사건이 발생할 확률**을 **조건부 확률**이라고 합니다."
   ]
  },
  {
   "cell_type": "markdown",
   "metadata": {},
   "source": [
    "- **조건부 확률**을 약간 수학적으로 정의하면 다음처럼 정의할 수 있습니다."
   ]
  },
  {
   "cell_type": "markdown",
   "metadata": {},
   "source": [
    "<center>\n",
    "   \n",
    "> 사건 $B$가 발생했다는 조건 하에, 사건 $A$가 발생할 조건부 확률은    \n",
    "> $$P(A | B) = \\frac{P(A \\cap B)}{P(B)}$$   \n",
    "> 이고, 이는 B가 발생했다는 전제 하에 A가 발생할 확률을 의미한다.\n",
    "\n",
    "</center>"
   ]
  },
  {
   "attachments": {},
   "cell_type": "markdown",
   "metadata": {},
   "source": [
    "- 그렇다면, 사건 $B$가 발생하지 않았을 때 사건 $A$가 발생할 확률은 어떻게 될까요?\n",
    "- $P(A | B)$ 에서 $B \\rightarrow B^c$ 로 바꿔본다면 쉽게 생각할 수 있을 것입니다.   \n",
    "> $$P(A | B^c) = \\frac{P(A \\cap B^c)}{P(B^c)} = \\frac{P(A) - P(A \\cap B)}{1 - P(B)}$$"
   ]
  },
  {
   "cell_type": "code",
   "execution_count": null,
   "metadata": {},
   "outputs": [],
   "source": []
  }
 ],
 "metadata": {
  "kernelspec": {
   "display_name": "Python 3",
   "language": "python",
   "name": "python3"
  },
  "language_info": {
   "codemirror_mode": {
    "name": "ipython",
    "version": 3
   },
   "file_extension": ".py",
   "mimetype": "text/x-python",
   "name": "python",
   "nbconvert_exporter": "python",
   "pygments_lexer": "ipython3",
   "version": "3.7.1"
  },
  "toc": {
   "base_numbering": 1,
   "nav_menu": {},
   "number_sections": true,
   "sideBar": true,
   "skip_h1_title": false,
   "title_cell": "Table of Contents",
   "title_sidebar": "Contents",
   "toc_cell": false,
   "toc_position": {},
   "toc_section_display": true,
   "toc_window_display": false
  },
  "varInspector": {
   "cols": {
    "lenName": 16,
    "lenType": 16,
    "lenVar": 40
   },
   "kernels_config": {
    "python": {
     "delete_cmd_postfix": "",
     "delete_cmd_prefix": "del ",
     "library": "var_list.py",
     "varRefreshCmd": "print(var_dic_list())"
    },
    "r": {
     "delete_cmd_postfix": ") ",
     "delete_cmd_prefix": "rm(",
     "library": "var_list.r",
     "varRefreshCmd": "cat(var_dic_list()) "
    }
   },
   "types_to_exclude": [
    "module",
    "function",
    "builtin_function_or_method",
    "instance",
    "_Feature"
   ],
   "window_display": false
  }
 },
 "nbformat": 4,
 "nbformat_minor": 2
}
